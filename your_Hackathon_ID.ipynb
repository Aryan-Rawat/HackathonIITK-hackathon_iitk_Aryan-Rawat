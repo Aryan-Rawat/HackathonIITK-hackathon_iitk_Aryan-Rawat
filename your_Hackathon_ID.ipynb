{
  "nbformat": 4,
  "nbformat_minor": 0,
  "metadata": {
    "colab": {
      "name": "your_Hackathon_ID.ipynb",
      "provenance": []
    },
    "kernelspec": {
      "name": "python3",
      "display_name": "Python 3"
    },
    "language_info": {
      "name": "python"
    }
  },
  "cells": [
    {
      "cell_type": "markdown",
      "source": [
        ""
      ],
      "metadata": {
        "id": "XkGLH7rTVr3D"
      }
    },
    {
      "cell_type": "markdown",
      "source": [
        "# **Make necessary assumptions and do push into the pulled repo with the generated outputs in the same file**"
      ],
      "metadata": {
        "id": "m02UGAZJWp_m"
      }
    },
    {
      "cell_type": "code",
      "source": [
        "#Example Code\n",
        "import numpy as np\n",
        "import keras\n",
        "import tensorflow\n",
        "from sklearn import datasets\n",
        "from tensorflow.keras.models import Sequential\n",
        "from tensorflow.keras.layers import Dense\n",
        "from tensorflow.keras.optimizers import Adam\n",
        "import matplotlib.pyplot as plt\n",
        "%matplotlib inline"
      ],
      "metadata": {
        "id": "Uxe7h7W8W9XO"
      },
      "execution_count": 1,
      "outputs": []
    },
    {
      "cell_type": "code",
      "source": [
        "n_pts = 500\n",
        "np.random.seed(0)\n",
        "X,y=datasets.make_circles(n_samples=n_pts,random_state=123,noise=0.1,factor=0.2)\n"
      ],
      "metadata": {
        "id": "42d1HosaXFOf"
      },
      "execution_count": 2,
      "outputs": []
    },
    {
      "cell_type": "code",
      "source": [
        "plt.scatter(X[y==0,0],X[y==0,1])\n",
        "plt.scatter(X[y==1,0],X[y==1,1])"
      ],
      "metadata": {
        "colab": {
          "base_uri": "https://localhost:8080/",
          "height": 282
        },
        "id": "Ls29TpMvXIef",
        "outputId": "28a38bf4-6556-4ff7-e6de-41dafc08a7d1"
      },
      "execution_count": 3,
      "outputs": [
        {
          "output_type": "execute_result",
          "data": {
            "text/plain": [
              "<matplotlib.collections.PathCollection at 0x7ff9ff3a5790>"
            ]
          },
          "metadata": {},
          "execution_count": 3
        },
        {
          "output_type": "display_data",
          "data": {
            "image/png": "[encoded data removed]",
            "text/plain": [
              "<Figure size 432x288 with 1 Axes>"
            ]
          },
          "metadata": {
            "needs_background": "light"
          }
        }
      ]
    },
    {
      "cell_type": "markdown",
      "source": [
        "## **Above is the example code and its corresponding output....**"
      ],
      "metadata": {
        "id": "_Z2W9BvcXSEo"
      }
    },
    {
      "cell_type": "markdown",
      "source": [
        "#Exploratory Data Analysis (Includes Graphs and other necessary operations)"
      ],
      "metadata": {
        "id": "_tuyZGsXVvN7"
      }
    },
    {
      "cell_type": "code",
      "execution_count": null,
      "metadata": {
        "id": "TuinjJuvVjbN"
      },
      "outputs": [],
      "source": [
        "//your code goes on...\n",
        "// your output"
      ]
    },
    {
      "cell_type": "markdown",
      "source": [
        "# Feature Engineering"
      ],
      "metadata": {
        "id": "BKyyJT2fV-rc"
      }
    },
    {
      "cell_type": "code",
      "source": [
        "//your code goes on...\n",
        "// your output"
      ],
      "metadata": {
        "id": "8KnAdi8wWGTL"
      },
      "execution_count": null,
      "outputs": []
    },
    {
      "cell_type": "markdown",
      "source": [
        "# Data Augmentation"
      ],
      "metadata": {
        "id": "LwuMJGqbWSUe"
      }
    },
    {
      "cell_type": "code",
      "source": [
        "//your code goes on...\n",
        "// your output"
      ],
      "metadata": {
        "id": "CccgEOcuWab0"
      },
      "execution_count": null,
      "outputs": []
    },
    {
      "cell_type": "markdown",
      "source": [
        "# Model and Accuracy Prediction on given test data"
      ],
      "metadata": {
        "id": "UktroZg4WdWP"
      }
    },
    {
      "cell_type": "code",
      "source": [
        "//your code goes on...\n",
        "// your output"
      ],
      "metadata": {
        "id": "_W2G6hhBWmJl"
      },
      "execution_count": null,
      "outputs": []
    }
  ]
}